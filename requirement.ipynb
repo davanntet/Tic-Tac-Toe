{
 "cells": [
  {
   "cell_type": "code",
   "execution_count": 1,
   "id": "initial_id",
   "metadata": {
    "ExecuteTime": {
     "end_time": "2024-11-09T14:24:08.052228Z",
     "start_time": "2024-11-09T14:22:57.225306Z"
    },
    "collapsed": true
   },
   "outputs": [
    {
     "name": "stdout",
     "output_type": "stream",
     "text": [
      "Collecting pygame\n",
      "  Downloading pygame-2.6.1-cp313-cp313-win_amd64.whl.metadata (13 kB)\n",
      "Downloading pygame-2.6.1-cp313-cp313-win_amd64.whl (10.6 MB)\n",
      "   ---------------------------------------- 0.0/10.6 MB ? eta -:--:--\n",
      "    --------------------------------------- 0.3/10.6 MB ? eta -:--:--\n",
      "   --- ------------------------------------ 1.0/10.6 MB 2.9 MB/s eta 0:00:04\n",
      "   ----- ---------------------------------- 1.6/10.6 MB 2.9 MB/s eta 0:00:04\n",
      "   ------- -------------------------------- 2.1/10.6 MB 2.7 MB/s eta 0:00:04\n",
      "   --------- ------------------------------ 2.6/10.6 MB 2.7 MB/s eta 0:00:03\n",
      "   ----------- ---------------------------- 3.1/10.6 MB 2.6 MB/s eta 0:00:03\n",
      "   ------------- -------------------------- 3.7/10.6 MB 2.6 MB/s eta 0:00:03\n",
      "   ---------------- ----------------------- 4.5/10.6 MB 2.7 MB/s eta 0:00:03\n",
      "   ------------------- -------------------- 5.2/10.6 MB 2.8 MB/s eta 0:00:02\n",
      "   --------------------- ------------------ 5.8/10.6 MB 2.8 MB/s eta 0:00:02\n",
      "   ----------------------- ---------------- 6.3/10.6 MB 2.8 MB/s eta 0:00:02\n",
      "   -------------------------- ------------- 7.1/10.6 MB 2.8 MB/s eta 0:00:02\n",
      "   ----------------------------- ---------- 7.9/10.6 MB 2.9 MB/s eta 0:00:01\n",
      "   ------------------------------- -------- 8.4/10.6 MB 2.9 MB/s eta 0:00:01\n",
      "   ----------------------------------- ---- 9.4/10.6 MB 3.0 MB/s eta 0:00:01\n",
      "   -------------------------------------- - 10.2/10.6 MB 3.0 MB/s eta 0:00:01\n",
      "   ---------------------------------------- 10.6/10.6 MB 3.0 MB/s eta 0:00:00\n",
      "Installing collected packages: pygame\n",
      "Successfully installed pygame-2.6.1\n",
      "Note: you may need to restart the kernel to use updated packages.\n"
     ]
    },
    {
     "name": "stderr",
     "output_type": "stream",
     "text": [
      "\n",
      "[notice] A new release of pip is available: 24.2 -> 24.3.1\n",
      "[notice] To update, run: python.exe -m pip install --upgrade pip\n"
     ]
    }
   ],
   "source": [
    "%pip install pygame"
   ]
  },
  {
   "cell_type": "code",
   "execution_count": null,
   "id": "412dd2c723335d6b",
   "metadata": {},
   "outputs": [],
   "source": []
  }
 ],
 "metadata": {
  "kernelspec": {
   "display_name": "Python 3",
   "language": "python",
   "name": "python3"
  },
  "language_info": {
   "codemirror_mode": {
    "name": "ipython",
    "version": 3
   },
   "file_extension": ".py",
   "mimetype": "text/x-python",
   "name": "python",
   "nbconvert_exporter": "python",
   "pygments_lexer": "ipython3",
   "version": "3.13.0"
  }
 },
 "nbformat": 4,
 "nbformat_minor": 5
}
